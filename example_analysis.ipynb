{
 "cells": [
  {
   "cell_type": "code",
   "execution_count": null,
   "metadata": {},
   "outputs": [],
   "source": [
    "import ast\n",
    "import os\n",
    "import numpy as np\n",
    "import pandas as pd\n",
    "import time"
   ]
  },
  {
   "cell_type": "code",
   "execution_count": null,
   "metadata": {},
   "outputs": [],
   "source": [
    "if \"output.csv\" not in os.listdir():\n",
    "    import read_data\n",
    "    read_data.convert_to_csv()"
   ]
  },
  {
   "cell_type": "code",
   "execution_count": null,
   "metadata": {},
   "outputs": [],
   "source": [
    "def str_to_list(x):\n",
    "    \"\"\"Convert string representation of Python list to list\"\"\"\n",
    "    return ast.literal_eval(x)"
   ]
  },
  {
   "cell_type": "code",
   "execution_count": null,
   "metadata": {},
   "outputs": [],
   "source": [
    "df = pd.read_csv(\"output.csv\", index_col=0, parse_dates=[0])\n",
    "for col in df.columns:\n",
    "    df.loc[df[col].notnull(), col] = df.loc[df[col].notnull(), col].apply(str_to_list)\n",
    "df.head()"
   ]
  },
  {
   "cell_type": "code",
   "execution_count": null,
   "metadata": {},
   "outputs": [],
   "source": [
    "def get_max(sets):\n",
    "    \"\"\"Return maximum weight moved from list of sets\"\"\"\n",
    "    max_weight = 0\n",
    "    for s in sets:\n",
    "        if s[0] > max_weight:\n",
    "            max_weight = s[0]\n",
    "    return max_weight"
   ]
  },
  {
   "cell_type": "code",
   "execution_count": null,
   "metadata": {},
   "outputs": [],
   "source": [
    "df_max = df.copy()\n",
    "\n",
    "for col in df_max.columns:\n",
    "    df_max.loc[df_max[col].notnull(), col] = df_max.loc[df_max[col].notnull(), col].apply(get_max)\n",
    "df_max.head()"
   ]
  },
  {
   "cell_type": "code",
   "execution_count": null,
   "metadata": {},
   "outputs": [],
   "source": [
    "# Plot three main power lifting lifts\n",
    "big3 = df_max[['Barbell Bench Press', 'Barbell Squat', 'Barbell Deadlift']].copy()\n",
    "big3.head()"
   ]
  },
  {
   "cell_type": "code",
   "execution_count": null,
   "metadata": {},
   "outputs": [],
   "source": [
    "import matplotlib.pyplot as plt\n",
    "%matplotlib inline\n",
    "\n",
    "plt.rcParams['figure.figsize'] = (16, 9)"
   ]
  },
  {
   "cell_type": "code",
   "execution_count": null,
   "metadata": {},
   "outputs": [],
   "source": [
    "fig, ax = plt.subplots()\n",
    "\n",
    "for exercise in big3.columns:\n",
    "    df_ex = big3[exercise].dropna()\n",
    "    ax.scatter(df_ex.index, df_ex.values, label=exercise)\n",
    "ax.legend()\n",
    "ax.grid();"
   ]
  },
  {
   "cell_type": "code",
   "execution_count": null,
   "metadata": {},
   "outputs": [],
   "source": []
  }
 ],
 "metadata": {
  "kernelspec": {
   "display_name": "Python 3",
   "language": "python",
   "name": "python3"
  },
  "language_info": {
   "codemirror_mode": {
    "name": "ipython",
    "version": 3
   },
   "file_extension": ".py",
   "mimetype": "text/x-python",
   "name": "python",
   "nbconvert_exporter": "python",
   "pygments_lexer": "ipython3",
   "version": "3.6.7"
  }
 },
 "nbformat": 4,
 "nbformat_minor": 2
}
